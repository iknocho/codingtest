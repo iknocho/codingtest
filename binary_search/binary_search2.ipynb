{
  "nbformat": 4,
  "nbformat_minor": 0,
  "metadata": {
    "colab": {
      "name": "binary_search2.ipynb",
      "provenance": []
    },
    "kernelspec": {
      "name": "python3",
      "display_name": "Python 3"
    },
    "language_info": {
      "name": "python"
    }
  },
  "cells": [
    {
      "cell_type": "code",
      "execution_count": 10,
      "metadata": {
        "colab": {
          "base_uri": "https://localhost:8080/"
        },
        "id": "tnZyVCCZHQ2C",
        "outputId": "69dfb74d-20c3-40a5-d3f9-449e48dae2c1"
      },
      "outputs": [
        {
          "output_type": "stream",
          "name": "stdout",
          "text": [
            "1\n"
          ]
        }
      ],
      "source": [
        "from bisect import bisect_left,bisect_right\n",
        "def count_range(arr,left_value,right_value):\n",
        "  left_index=bisect_left(arr,left_value)\n",
        "  right_index=bisect_right(arr,right_value)\n",
        "  return right_index-left_index\n",
        "array = ['emarf','oakak','odorf','tnorf','tsorf']\n",
        "query='e????'\n",
        "if query[-1]=='?':\n",
        "  res=count_range(array,query.replace('?','a'),query.replace('?','z'))\n",
        "print(res)\n"
      ]
    },
    {
      "cell_type": "code",
      "source": [
        ""
      ],
      "metadata": {
        "id": "rzNx0n9AhJ8A"
      },
      "execution_count": null,
      "outputs": []
    }
  ]
}