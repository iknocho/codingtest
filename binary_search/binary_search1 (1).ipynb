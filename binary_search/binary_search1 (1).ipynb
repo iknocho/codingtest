{
  "nbformat": 4,
  "nbformat_minor": 0,
  "metadata": {
    "colab": {
      "name": "binary_search1.ipynb",
      "provenance": [],
      "collapsed_sections": []
    },
    "kernelspec": {
      "name": "python3",
      "display_name": "Python 3"
    },
    "language_info": {
      "name": "python"
    }
  },
  "cells": [
    {
      "cell_type": "code",
      "execution_count": 4,
      "metadata": {
        "id": "w5Z5kHRxzRQN"
      },
      "outputs": [],
      "source": [
        "from bisect import bisect_left,bisect_right"
      ]
    },
    {
      "cell_type": "code",
      "source": [
        "def count_binary(array,a,b):\n",
        "  left_index=bisect_left(array,a)\n",
        "  right_index=bisect_right(array,b)\n",
        "  value=right_index-left_index\n",
        "  return value"
      ],
      "metadata": {
        "id": "TR69mG6vQsij"
      },
      "execution_count": 5,
      "outputs": []
    },
    {
      "cell_type": "code",
      "source": [
        "n,target=map(int,input().split())\n",
        "array=list(map(int,input().split()))\n",
        "print(count_binary(array,2,2))"
      ],
      "metadata": {
        "colab": {
          "base_uri": "https://localhost:8080/"
        },
        "id": "cjG2Gm3NUMEj",
        "outputId": "9ca1efae-c5fb-4833-aa94-5bfffa912656"
      },
      "execution_count": 9,
      "outputs": [
        {
          "output_type": "stream",
          "name": "stdout",
          "text": [
            "7 2\n",
            "1 1 2 2 2 2 3\n",
            "4\n"
          ]
        }
      ]
    },
    {
      "cell_type": "code",
      "source": [
        ""
      ],
      "metadata": {
        "colab": {
          "base_uri": "https://localhost:8080/"
        },
        "id": "LKzmdl3QVbtx",
        "outputId": "3f93fee0-0a02-4166-f981-96de76339d98"
      },
      "execution_count": 7,
      "outputs": [
        {
          "output_type": "execute_result",
          "data": {
            "text/plain": [
              "0"
            ]
          },
          "metadata": {},
          "execution_count": 7
        }
      ]
    },
    {
      "cell_type": "code",
      "source": [
        "ㅔㅔㅔ;"
      ],
      "metadata": {
        "colab": {
          "base_uri": "https://localhost:8080/"
        },
        "id": "-wA7_EY-Vm0P",
        "outputId": "eaaa2a4a-ccff-4f05-ed58-fe491ba1e23b"
      },
      "execution_count": 8,
      "outputs": [
        {
          "output_type": "execute_result",
          "data": {
            "text/plain": [
              "7"
            ]
          },
          "metadata": {},
          "execution_count": 8
        }
      ]
    },
    {
      "cell_type": "code",
      "source": [
        ""
      ],
      "metadata": {
        "id": "6Qn7R9s7VrWS"
      },
      "execution_count": null,
      "outputs": []
    }
  ]
}