{
  "nbformat": 4,
  "nbformat_minor": 0,
  "metadata": {
    "colab": {
      "name": "DFS/BFS4.ipynb",
      "provenance": [],
      "collapsed_sections": []
    },
    "kernelspec": {
      "name": "python3",
      "display_name": "Python 3"
    },
    "language_info": {
      "name": "python"
    }
  },
  "cells": [
    {
      "cell_type": "code",
      "execution_count": 64,
      "metadata": {
        "id": "1PcigGXGS1r_"
      },
      "outputs": [],
      "source": [
        "def checkCorrect(w):\n",
        "    count=0\n",
        "    i=0\n",
        "    for i in range(len(w)):\n",
        "        if w[i]=='(':\n",
        "            count+=1\n",
        "        elif w[i]==')':\n",
        "            count-=1\n",
        "        if count>=0:\n",
        "            pass\n",
        "        else:\n",
        "            return False\n",
        "    if count==0:\n",
        "        return True\n",
        "    \n",
        "def solution(p): \n",
        "        if p=='':\n",
        "            answer=''\n",
        "            return answer\n",
        "        count=0\n",
        "        i=0\n",
        "        for i in range(len(p)):\n",
        "            if p[i]=='(':\n",
        "                count+=1\n",
        "            elif p[i]==')':\n",
        "                count-=1\n",
        "            if count==0:\n",
        "                u=p[:i+1]\n",
        "                v=p[i+1:]\n",
        "                break\n",
        "        if checkCorrect(u)==1:\n",
        "            return u+solution(v)\n",
        "        else:\n",
        "            st='('+solution(v)+')'\n",
        "            u=u[1:-1]\n",
        "            newu=''\n",
        "            i=0\n",
        "            for i in range(len(u)):\n",
        "                if u[i]=='(':\n",
        "                    newu+=')'\n",
        "                elif u[i]==')':\n",
        "                    newu+='('\n",
        "            st=st+newu\n",
        "            answer=st\n",
        "        return answer"
      ]
    },
    {
      "cell_type": "code",
      "source": [
        ""
      ],
      "metadata": {
        "id": "KZxtxNWzoDj-"
      },
      "execution_count": 66,
      "outputs": []
    },
    {
      "cell_type": "code",
      "source": [
        ""
      ],
      "metadata": {
        "id": "8KScbBFtNqCF"
      },
      "execution_count": 63,
      "outputs": []
    },
    {
      "cell_type": "code",
      "source": [
        ""
      ],
      "metadata": {
        "id": "xAZbTgPmXAXJ"
      },
      "execution_count": null,
      "outputs": []
    }
  ]
}