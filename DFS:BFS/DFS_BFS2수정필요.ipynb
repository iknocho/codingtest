{
  "nbformat": 4,
  "nbformat_minor": 0,
  "metadata": {
    "colab": {
      "name": "DFS/BFS2수정필요.ipynb",
      "provenance": [],
      "collapsed_sections": []
    },
    "kernelspec": {
      "name": "python3",
      "display_name": "Python 3"
    },
    "language_info": {
      "name": "python"
    }
  },
  "cells": [
    {
      "cell_type": "code",
      "execution_count": 25,
      "metadata": {
        "colab": {
          "base_uri": "https://localhost:8080/"
        },
        "id": "s7Plya_GU-DE",
        "outputId": "8a03fced-02b3-4369-85d1-431cd71e40fe"
      },
      "outputs": [
        {
          "output_type": "stream",
          "name": "stdout",
          "text": [
            "4 4\n",
            "0 0 0 0\n",
            "0 0 0 2\n",
            "0 0 0 0\n",
            "0 0 0 0\n",
            "12\n"
          ]
        }
      ],
      "source": [
        "from collections import deque\n",
        "import sys\n",
        "from itertools import combinations\n",
        "\n",
        "def virus(x,y):\n",
        "  if x<0 or x>=N or y<0 or y>=M:\n",
        "    return False\n",
        "  if chdata[x][y]==1:\n",
        "    return False\n",
        "  if chdata[x][y]==0:\n",
        "    chdata[x][y]=2\n",
        "    virus(x-1,y)\n",
        "    virus(x+1,y)\n",
        "    virus(x,y-1)\n",
        "    virus(x,y+1)\n",
        "  return True\n",
        "\n",
        "def calculate():\n",
        "  result=0\n",
        "  for x in range(N):\n",
        "    for y in range(M):\n",
        "      if chdata[x][y]==0:\n",
        "        result+=1\n",
        "  return result\n",
        "\n",
        "N,M=map(int,input().split())\n",
        "data=[]\n",
        "for _ in range(N):\n",
        "  data.append(list(map(int,input().split())))\n",
        "chdata=[item[:] for item in data]#슬라이싱을 사용한 2중 깊은복사 deepcopy보다 약 10배빠름\n",
        "\n",
        "wallcandidate=[]\n",
        "virusList=[]\n",
        "for x in range(N):\n",
        "  for y in range(M):\n",
        "    if data[x][y]==0:\n",
        "      wallcandidate.append((x,y))\n",
        "    elif data[x][y]==2:\n",
        "      virusList.append((x,y))\n",
        "wallList=combinations(wallcandidate,3)\n",
        "\n",
        "result=0\n",
        "finalresult=0\n",
        "for wall in wallList:\n",
        "  for i in range(3):\n",
        "    x,y=wall[i]\n",
        "    chdata[x][y]=1\n",
        "  for x,y in virusList:\n",
        "    virus(x-1,y)\n",
        "    virus(x+1,y)\n",
        "    virus(x,y-1)\n",
        "    virus(x,y+1)\n",
        "  result=calculate()\n",
        "  finalresult=max(finalresult,result)\n",
        "  if finalresult==3:\n",
        "    print(chdata)\n",
        "  chdata=[item[:] for item in data]\n",
        "\n",
        "print(finalresult)\n",
        "\n"
      ]
    },
    {
      "cell_type": "code",
      "source": [
        "3id(M[2]),id(L[2])"
      ],
      "metadata": {
        "colab": {
          "base_uri": "https://localhost:8080/"
        },
        "id": "75nrJzckhjHJ",
        "outputId": "f47456e2-3eff-4a4d-be36-3de89f82b02d"
      },
      "execution_count": null,
      "outputs": [
        {
          "output_type": "execute_result",
          "data": {
            "text/plain": [
              "(94331866401376, 94331866401888)"
            ]
          },
          "metadata": {},
          "execution_count": 5
        }
      ]
    },
    {
      "cell_type": "code",
      "source": [
        "M[3][2]=3\n",
        "id(M[3]),id(L[3])"
      ],
      "metadata": {
        "colab": {
          "base_uri": "https://localhost:8080/"
        },
        "id": "4aI6Xi4jhkZv",
        "outputId": "2294985e-8f6e-4eb5-ffa5-d87316b89c99"
      },
      "execution_count": null,
      "outputs": [
        {
          "output_type": "execute_result",
          "data": {
            "text/plain": [
              "(140336223644400, 140336223644400)"
            ]
          },
          "metadata": {},
          "execution_count": 8
        }
      ]
    },
    {
      "cell_type": "code",
      "source": [
        "M[3]=1\n",
        "L"
      ],
      "metadata": {
        "colab": {
          "base_uri": "https://localhost:8080/"
        },
        "id": "PJ-i8qvAhtZn",
        "outputId": "c216a4bd-644f-45da-ef7b-2283a88754fc"
      },
      "execution_count": null,
      "outputs": [
        {
          "output_type": "execute_result",
          "data": {
            "text/plain": [
              "[3, 7, 20, [2, 4, 3], 5]"
            ]
          },
          "metadata": {},
          "execution_count": 10
        }
      ]
    },
    {
      "cell_type": "code",
      "source": [
        "max(3,4)"
      ],
      "metadata": {
        "colab": {
          "base_uri": "https://localhost:8080/"
        },
        "id": "YEJX6Vpgh-HE",
        "outputId": "16f2a966-e167-4d48-b14a-5417b4d0c8c7"
      },
      "execution_count": 1,
      "outputs": [
        {
          "output_type": "execute_result",
          "data": {
            "text/plain": [
              "4"
            ]
          },
          "metadata": {},
          "execution_count": 1
        }
      ]
    },
    {
      "cell_type": "code",
      "source": [
        ""
      ],
      "metadata": {
        "id": "HpjM3qOliHA_"
      },
      "execution_count": null,
      "outputs": []
    }
  ]
}