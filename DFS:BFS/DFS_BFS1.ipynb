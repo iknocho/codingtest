{
  "nbformat": 4,
  "nbformat_minor": 0,
  "metadata": {
    "colab": {
      "name": "DFS/BFS1.ipynb",
      "provenance": []
    },
    "kernelspec": {
      "name": "python3",
      "display_name": "Python 3"
    },
    "language_info": {
      "name": "python"
    }
  },
  "cells": [
    {
      "cell_type": "code",
      "execution_count": 8,
      "metadata": {
        "colab": {
          "base_uri": "https://localhost:8080/"
        },
        "id": "w0Cw6dU-A_xV",
        "outputId": "cc264032-efeb-4606-f0c8-2e55ad27bfd5"
      },
      "outputs": [
        {
          "output_type": "stream",
          "name": "stdout",
          "text": [
            "4 4 1 1\n",
            "1 2\n",
            "1 3\n",
            "2 3\n",
            "2 4\n",
            "2\n",
            "3\n"
          ]
        }
      ],
      "source": [
        "from collections import deque\n",
        "N,M,K,X=map(int,input().split())\n",
        "graph=[[] for _ in range(N+1)]\n",
        "data=[-1 for _ in range(N+1)]\n",
        "for _ in range(M):\n",
        "    start,end=map(int,input().split())\n",
        "    graph[start].append(end)\n",
        "q=deque([X])#출발지\n",
        "data[X]=0\n",
        "while q:\n",
        "    a=q.popleft()\n",
        "    for i in graph[a]:\n",
        "      if data[i]==-1:\n",
        "        data[i]=data[a]+1\n",
        "        q.append(i)\n",
        "count=0\n",
        "for i in range(N+1):\n",
        "  if data[i]==K:\n",
        "    print(i)\n",
        "    count+=1\n",
        "if count==0:\n",
        "    print(-1)  "
      ]
    },
    {
      "cell_type": "code",
      "source": [
        ""
      ],
      "metadata": {
        "id": "HLauYtB-FLuu"
      },
      "execution_count": null,
      "outputs": []
    }
  ]
}