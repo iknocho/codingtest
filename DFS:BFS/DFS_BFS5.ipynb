{
  "nbformat": 4,
  "nbformat_minor": 0,
  "metadata": {
    "colab": {
      "name": "DFS/BFS5.ipynb",
      "provenance": []
    },
    "kernelspec": {
      "name": "python3",
      "display_name": "Python 3"
    },
    "language_info": {
      "name": "python"
    }
  },
  "cells": [
    {
      "cell_type": "code",
      "execution_count": 45,
      "metadata": {
        "id": "-D3lv4HMbJNZ",
        "colab": {
          "base_uri": "https://localhost:8080/",
          "height": 235
        },
        "outputId": "4ef7ccb8-2491-4b43-e907-4c94d292a90d"
      },
      "outputs": [
        {
          "output_type": "error",
          "ename": "ValueError",
          "evalue": "ignored",
          "traceback": [
            "\u001b[0;31m---------------------------------------------------------------------------\u001b[0m",
            "\u001b[0;31mValueError\u001b[0m                                Traceback (most recent call last)",
            "\u001b[0;32m<ipython-input-45-7d4d5fbfd0bc>\u001b[0m in \u001b[0;36m<module>\u001b[0;34m()\u001b[0m\n\u001b[1;32m      2\u001b[0m \u001b[0;32mfrom\u001b[0m \u001b[0mcollections\u001b[0m \u001b[0;32mimport\u001b[0m \u001b[0mdeque\u001b[0m\u001b[0;34m\u001b[0m\u001b[0;34m\u001b[0m\u001b[0m\n\u001b[1;32m      3\u001b[0m \u001b[0;32mimport\u001b[0m \u001b[0msys\u001b[0m\u001b[0;34m\u001b[0m\u001b[0;34m\u001b[0m\u001b[0m\n\u001b[0;32m----> 4\u001b[0;31m \u001b[0mN\u001b[0m\u001b[0;34m=\u001b[0m\u001b[0mint\u001b[0m\u001b[0;34m(\u001b[0m\u001b[0msys\u001b[0m\u001b[0;34m.\u001b[0m\u001b[0mstdin\u001b[0m\u001b[0;34m.\u001b[0m\u001b[0mreadline\u001b[0m\u001b[0;34m(\u001b[0m\u001b[0;34m)\u001b[0m\u001b[0;34m)\u001b[0m\u001b[0;34m\u001b[0m\u001b[0;34m\u001b[0m\u001b[0m\n\u001b[0m\u001b[1;32m      5\u001b[0m \u001b[0msequence\u001b[0m\u001b[0;34m=\u001b[0m \u001b[0mlist\u001b[0m\u001b[0;34m(\u001b[0m\u001b[0mmap\u001b[0m\u001b[0;34m(\u001b[0m\u001b[0mint\u001b[0m\u001b[0;34m,\u001b[0m \u001b[0msys\u001b[0m\u001b[0;34m.\u001b[0m\u001b[0mstdin\u001b[0m\u001b[0;34m.\u001b[0m\u001b[0mreadline\u001b[0m\u001b[0;34m(\u001b[0m\u001b[0;34m)\u001b[0m\u001b[0;34m.\u001b[0m\u001b[0msplit\u001b[0m\u001b[0;34m(\u001b[0m\u001b[0;34m)\u001b[0m\u001b[0;34m)\u001b[0m\u001b[0;34m)\u001b[0m\u001b[0;34m\u001b[0m\u001b[0;34m\u001b[0m\u001b[0m\n\u001b[1;32m      6\u001b[0m \u001b[0moperator\u001b[0m\u001b[0;34m=\u001b[0m \u001b[0mlist\u001b[0m\u001b[0;34m(\u001b[0m\u001b[0mmap\u001b[0m\u001b[0;34m(\u001b[0m\u001b[0mint\u001b[0m\u001b[0;34m,\u001b[0m \u001b[0msys\u001b[0m\u001b[0;34m.\u001b[0m\u001b[0mstdin\u001b[0m\u001b[0;34m.\u001b[0m\u001b[0mreadline\u001b[0m\u001b[0;34m(\u001b[0m\u001b[0;34m)\u001b[0m\u001b[0;34m.\u001b[0m\u001b[0msplit\u001b[0m\u001b[0;34m(\u001b[0m\u001b[0;34m)\u001b[0m\u001b[0;34m)\u001b[0m\u001b[0;34m)\u001b[0m\u001b[0;34m\u001b[0m\u001b[0;34m\u001b[0m\u001b[0m\n",
            "\u001b[0;31mValueError\u001b[0m: invalid literal for int() with base 10: ''"
          ]
        }
      ],
      "source": [
        "from itertools import permutations\n",
        "from collections import deque\n",
        "import sys\n",
        "N=int(sys.stdin.readline())\n",
        "sequence= list(map(int, sys.stdin.readline().split()))\n",
        "operator= list(map(int, sys.stdin.readline().split()))\n",
        "sequence=deque(sequence)\n",
        "#2 3 3 3\n",
        "operatorList=[]\n",
        "for _ in range(operator[0]):\n",
        "  operatorList.append('+')\n",
        "for _ in range(operator[1]):\n",
        "  operatorList.append('-')\n",
        "for _ in range(operator[2]):\n",
        "  operatorList.append('*')\n",
        "for _ in range(operator[3]):\n",
        "  operatorList.append('/')\n",
        "operators=permutations(operatorList,N-1)\n",
        "\n",
        "maxnum=-1e9\n",
        "minnum=1e9\n",
        "\n",
        "for operator in operators:\n",
        "    result=sequence.popleft()\n",
        "    sequence.append(result)\n",
        "    for o in operator:\n",
        "      q=sequence.popleft()\n",
        "      sequence.append(q)   \n",
        "      if o =='+':\n",
        "        result=result+q\n",
        "      elif o =='-':\n",
        "        result=result-q\n",
        "      elif o =='*':\n",
        "        result=result*q\n",
        "      elif o =='/':\n",
        "        result=int(result/q)\n",
        "    minnum=min(minnum,result)\n",
        "    maxnum=max(maxnum,result)\n",
        "    result=0\n",
        "\n",
        "print(maxnum)\n",
        "print(minnum)"
      ]
    },
    {
      "cell_type": "code",
      "source": [
        "n= int(input())\n",
        "data=list(map(int,input().split()))\n",
        "add,sub,mul,div=map(int,input().split())\n",
        "\n",
        "min_value=1e9\n",
        "max_value=-1e9\n",
        "\n",
        "def dfs(i,now):\n",
        "  global min_value,max_value,add,sub,mul,div\n",
        "  if i==n:\n",
        "    min_value=min(min_value,now)\n",
        "    max_value=max(max_value,now)\n",
        "  else:\n",
        "    if add>0:\n",
        "      add-=1\n",
        "      dfs(i+1,now+data[i])\n",
        "      add+=1\n",
        "    if sub>0:\n",
        "      sub-=1\n",
        "      dfs(i+1,now-data[i])\n",
        "      sub+=1\n",
        "    if mul>0:\n",
        "      mul-=1\n",
        "      dfs(i+1,now*data[i])\n",
        "      mul+=1\n",
        "    if div>0:\n",
        "      div-=1\n",
        "      dfs(i+1,int(now/data[i]))\n",
        "      div+=1\n",
        "\n",
        "dfs(1,data[0])\n",
        "print(max_value)\n",
        "print(min_value)"
      ],
      "metadata": {
        "colab": {
          "base_uri": "https://localhost:8080/"
        },
        "id": "S3xJtwzvFAFk",
        "outputId": "99fe8d56-f34c-4d25-e767-6ebe0d601641"
      },
      "execution_count": 17,
      "outputs": [
        {
          "output_type": "execute_result",
          "data": {
            "text/plain": [
              "0"
            ]
          },
          "metadata": {},
          "execution_count": 17
        }
      ]
    },
    {
      "cell_type": "code",
      "source": [
        ""
      ],
      "metadata": {
        "colab": {
          "base_uri": "https://localhost:8080/"
        },
        "id": "GI-rhasSHUJx",
        "outputId": "166f1aad-a4b0-48cf-c785-68fbff02c78e"
      },
      "execution_count": 21,
      "outputs": [
        {
          "output_type": "stream",
          "name": "stdout",
          "text": [
            "(1, 2, 3, 4, 1)\n",
            "(1, 2, 3, 4, 1)\n",
            "(1, 2, 3, 1, 1)\n",
            "(1, 2, 4, 1, 1)\n",
            "(1, 3, 4, 1, 1)\n",
            "(2, 3, 4, 1, 1)\n"
          ]
        }
      ]
    },
    {
      "cell_type": "code",
      "source": [
        ""
      ],
      "metadata": {
        "id": "cZpLNDHwIiUy"
      },
      "execution_count": null,
      "outputs": []
    }
  ]
}