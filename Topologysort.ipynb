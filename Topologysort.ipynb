{
  "nbformat": 4,
  "nbformat_minor": 0,
  "metadata": {
    "colab": {
      "name": "Topologysort.ipynb",
      "provenance": [],
      "collapsed_sections": []
    },
    "kernelspec": {
      "name": "python3",
      "display_name": "Python 3"
    },
    "language_info": {
      "name": "python"
    }
  },
  "cells": [
    {
      "cell_type": "code",
      "execution_count": 2,
      "metadata": {
        "colab": {
          "base_uri": "https://localhost:8080/"
        },
        "id": "43vr0J3kMsca",
        "outputId": "1643612f-cc03-41de-af99-4b54ea957ef9"
      },
      "outputs": [
        {
          "output_type": "stream",
          "name": "stdout",
          "text": [
            "7 8\n",
            "1 2\n",
            "1 5\n",
            "2 3\n",
            "2 6\n",
            "3 4\n",
            "4 7\n",
            "5 6\n",
            "6 4\n",
            "1253647"
          ]
        }
      ],
      "source": [
        "from collections import deque\n",
        "v,e=map(int,input().split())\n",
        "\n",
        "indegree=[0]*(v+1)\n",
        "\n",
        "graph=[[] for i in range(v+1)]\n",
        "\n",
        "##간선정보 차수포함\n",
        "\n",
        "for _ in range(e):\n",
        "  a,b=map(int,input().split())\n",
        "  graph[a].append(b)\n",
        "  indegree[b]+=1\n",
        "\n",
        "def topology_sort():\n",
        "  result=[]\n",
        "  q=deque()\n",
        "\n",
        "  for i in range(1,v+1):\n",
        "    if indegree[i]==0:\n",
        "      q.append(i)\n",
        "\n",
        "  while q:\n",
        "    now=q.popleft()\n",
        "    result.append(now)\n",
        "    for i in graph[now]:\n",
        "      indegree[i]-=1\n",
        "      if indegree[i]==0:\n",
        "        q.append(i)\n",
        "  \n",
        "  for i in result:\n",
        "    print(i,end=' ')\n",
        "\n",
        "topology_sort()  \n",
        "\n",
        "##위상 정렬 함수 topology_sort"
      ]
    },
    {
      "cell_type": "code",
      "source": [
        ""
      ],
      "metadata": {
        "id": "dLwDvF8d7G1V"
      },
      "execution_count": null,
      "outputs": []
    }
  ]
}