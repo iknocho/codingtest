{
  "nbformat": 4,
  "nbformat_minor": 0,
  "metadata": {
    "colab": {
      "name": "sort3.ipynb",
      "provenance": []
    },
    "kernelspec": {
      "name": "python3",
      "display_name": "Python 3"
    },
    "language_info": {
      "name": "python"
    }
  },
  "cells": [
    {
      "cell_type": "code",
      "execution_count": 15,
      "metadata": {
        "colab": {
          "base_uri": "https://localhost:8080/"
        },
        "id": "ay5EKJb8O_fi",
        "outputId": "b5bc6175-056c-493a-cd2a-d947ccf3e454"
      },
      "outputs": [
        {
          "output_type": "stream",
          "name": "stdout",
          "text": [
            "10\n",
            "20\n",
            "40\n",
            "50\n",
            "30\n",
            "30\n",
            "20\n",
            "10\n",
            "40\n",
            "50\n",
            "30\n",
            "1790\n"
          ]
        }
      ],
      "source": [
        "import sys\n",
        "#sys.stdin,readline().rstrip()\n",
        "N=int(input())\n",
        "numli=[]\n",
        "for _ in range(N):\n",
        "  numli.append(int(input()))\n",
        "numli.sort(reverse=True)\n",
        "result=0\n",
        "while len(numli)!=1:\n",
        "  sumn=numli.pop()+numli.pop()\n",
        "  result+=sumn\n",
        "  numli.append(sumn)\n",
        "  numli.sort(reverse=True)\n",
        "print(result)  "
      ]
    },
    {
      "cell_type": "code",
      "source": [
        "import heapq\n",
        "n=int(sys.stdin.readline().rstrip())\n",
        "\n",
        "heap=[]\n",
        "for i in range(n):\n",
        "    data=int(sys.stdin.readline().rstrip())\n",
        "    heapq.heappush(heap,data)\n",
        "\n",
        "result=0\n",
        "while len(heap)!=1:\n",
        "    one=heapq.heappop(heap)\n",
        "    two=heapq.heappop(heap)\n",
        "    sumvalue=one+two\n",
        "    result+=sumvalue\n",
        "    heapq.heappush(heap,sumvalue)\n",
        "print(result)"
      ],
      "metadata": {
        "colab": {
          "base_uri": "https://localhost:8080/",
          "height": 235
        },
        "id": "y4vk4AmzSPTg",
        "outputId": "8c9793ee-55f3-45ac-eb89-4fdd23ff6feb"
      },
      "execution_count": 17,
      "outputs": [
        {
          "output_type": "error",
          "ename": "ValueError",
          "evalue": "ignored",
          "traceback": [
            "\u001b[0;31m---------------------------------------------------------------------------\u001b[0m",
            "\u001b[0;31mValueError\u001b[0m                                Traceback (most recent call last)",
            "\u001b[0;32m<ipython-input-17-3372ac55a713>\u001b[0m in \u001b[0;36m<module>\u001b[0;34m()\u001b[0m\n\u001b[1;32m      1\u001b[0m \u001b[0;32mimport\u001b[0m \u001b[0mheapq\u001b[0m\u001b[0;34m\u001b[0m\u001b[0;34m\u001b[0m\u001b[0m\n\u001b[0;32m----> 2\u001b[0;31m \u001b[0mn\u001b[0m\u001b[0;34m=\u001b[0m\u001b[0mint\u001b[0m\u001b[0;34m(\u001b[0m\u001b[0msys\u001b[0m\u001b[0;34m.\u001b[0m\u001b[0mstdin\u001b[0m\u001b[0;34m.\u001b[0m\u001b[0mreadline\u001b[0m\u001b[0;34m(\u001b[0m\u001b[0;34m)\u001b[0m\u001b[0;34m.\u001b[0m\u001b[0mrstrip\u001b[0m\u001b[0;34m(\u001b[0m\u001b[0;34m)\u001b[0m\u001b[0;34m)\u001b[0m\u001b[0;34m\u001b[0m\u001b[0;34m\u001b[0m\u001b[0m\n\u001b[0m\u001b[1;32m      3\u001b[0m \u001b[0;34m\u001b[0m\u001b[0m\n\u001b[1;32m      4\u001b[0m \u001b[0mheap\u001b[0m\u001b[0;34m=\u001b[0m\u001b[0;34m[\u001b[0m\u001b[0;34m]\u001b[0m\u001b[0;34m\u001b[0m\u001b[0;34m\u001b[0m\u001b[0m\n\u001b[1;32m      5\u001b[0m \u001b[0;32mfor\u001b[0m \u001b[0mi\u001b[0m \u001b[0;32min\u001b[0m \u001b[0mrange\u001b[0m\u001b[0;34m(\u001b[0m\u001b[0mn\u001b[0m\u001b[0;34m)\u001b[0m\u001b[0;34m:\u001b[0m\u001b[0;34m\u001b[0m\u001b[0;34m\u001b[0m\u001b[0m\n",
            "\u001b[0;31mValueError\u001b[0m: invalid literal for int() with base 10: ''"
          ]
        }
      ]
    },
    {
      "cell_type": "code",
      "source": [
        "14"
      ],
      "metadata": {
        "id": "dHQBhdBASc6C"
      },
      "execution_count": null,
      "outputs": []
    }
  ]
}