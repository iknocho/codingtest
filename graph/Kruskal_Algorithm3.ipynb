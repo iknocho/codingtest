{
  "nbformat": 4,
  "nbformat_minor": 0,
  "metadata": {
    "colab": {
      "name": "Kruskal_Algorithm3.ipynb",
      "provenance": [],
      "collapsed_sections": []
    },
    "kernelspec": {
      "name": "python3",
      "display_name": "Python 3"
    },
    "language_info": {
      "name": "python"
    }
  },
  "cells": [
    {
      "cell_type": "code",
      "execution_count": 4,
      "metadata": {
        "colab": {
          "base_uri": "https://localhost:8080/"
        },
        "id": "c9OCUaW3lzcK",
        "outputId": "b8a88322-2ca1-4dfb-f53d-259a8754b7d2"
      },
      "outputs": [
        {
          "output_type": "stream",
          "name": "stdout",
          "text": [
            "7 11\n",
            "0 1 7\n",
            "0 3 5\n",
            "1 2 8\n",
            "1 3 9\n",
            "1 4 7\n",
            "2 4 5\n",
            "3 4 15\n",
            "3 5 6\n",
            "4 5 8\n",
            "4 6 9\n",
            "5 6 11\n",
            "51\n"
          ]
        }
      ],
      "source": [
        "import heapq\n",
        "def find_parent(parent,x):\n",
        "  if parent[x]!=x:\n",
        "    parent[x]=find_parent(parent,parent[x])\n",
        "  return parent[x]\n",
        "\n",
        "def union_parent(parent,a,b):\n",
        "  a=find_parent(parent,a)\n",
        "  b=find_parent(parent,b)\n",
        "  if a<b:\n",
        "    parent[b]=a\n",
        "  else:\n",
        "    parent[a]=b\n",
        "\n",
        "n,m=map(int,input().split())\n",
        "edges=[]\n",
        "parent=[i for i in range(n)]\n",
        "\n",
        "for _ in range(m):\n",
        "  k=list(map(int,input().split()))\n",
        "  edges.append(k)  \n",
        "\n",
        "edges.sort(key= lambda x:x[2])\n",
        "result=0\n",
        "\n",
        "for edge in edges:\n",
        "  if find_parent(parent,edge[0])!=find_parent(parent,edge[1]):\n",
        "    union_parent(parent,edge[0],edge[1]) \n",
        "  else:\n",
        "    result+=edge[2]\n",
        "print(result)\n",
        "\n",
        "\n"
      ]
    },
    {
      "cell_type": "code",
      "source": [
        "edges=[]\n",
        "\n",
        "for _ in range(m):\n",
        "  k=list(map(int,input().split()))\n",
        "  heapq.heappush(edges,k)\n"
      ],
      "metadata": {
        "colab": {
          "base_uri": "https://localhost:8080/"
        },
        "id": "RBzUcWgrSTvS",
        "outputId": "a9ff7744-5b69-4351-a3a5-2e8443ad326e"
      },
      "execution_count": 4,
      "outputs": [
        {
          "name": "stdout",
          "output_type": "stream",
          "text": [
            "3 4 1\n",
            "2 3 5\n",
            "3 4 2\n",
            "1 5 7\n"
          ]
        }
      ]
    },
    {
      "cell_type": "code",
      "source": [
        "edges"
      ],
      "metadata": {
        "colab": {
          "base_uri": "https://localhost:8080/"
        },
        "id": "Ilsb7Rp2SyDF",
        "outputId": "b51a7cf3-8f7a-4fa5-9159-a24f83df32fa"
      },
      "execution_count": 5,
      "outputs": [
        {
          "output_type": "execute_result",
          "data": {
            "text/plain": [
              "[[1, 5, 7], [2, 3, 5], [3, 4, 2], [3, 4, 1]]"
            ]
          },
          "metadata": {},
          "execution_count": 5
        }
      ]
    },
    {
      "cell_type": "code",
      "source": [
        ""
      ],
      "metadata": {
        "id": "8xy_UTnYS3B9"
      },
      "execution_count": null,
      "outputs": []
    }
  ]
}