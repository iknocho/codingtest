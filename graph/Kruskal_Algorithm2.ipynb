{
  "nbformat": 4,
  "nbformat_minor": 0,
  "metadata": {
    "colab": {
      "name": "Kruskal_Algorithm2.ipynb",
      "provenance": [],
      "collapsed_sections": []
    },
    "kernelspec": {
      "name": "python3",
      "display_name": "Python 3"
    },
    "language_info": {
      "name": "python"
    }
  },
  "cells": [
    {
      "cell_type": "code",
      "execution_count": 7,
      "metadata": {
        "colab": {
          "base_uri": "https://localhost:8080/"
        },
        "id": "oBuQkHEeiuJ7",
        "outputId": "334dcbc9-3caa-4355-d697-2df00efd85d6"
      },
      "outputs": [
        {
          "output_type": "stream",
          "name": "stdout",
          "text": [
            "4\n",
            "3\n",
            "4\n",
            "1\n",
            "1\n",
            "운행중지\n",
            "2\n"
          ]
        }
      ],
      "source": [
        "def find_parent(parent,x):\n",
        "  if parent[x]!=x:\n",
        "    parent[x] = find_parent(parent,parent[x])\n",
        "  return parent[x]\n",
        "\n",
        "def union_parent(parent,a,b):\n",
        "  a=find_parent(parent,a)\n",
        "  b=find_parent(parent,b)\n",
        "  if a<b:\n",
        "    parent[b]=a\n",
        "  else:\n",
        "    parent[a]=b\n",
        "\n",
        "G=int(input())\n",
        "P=int(input())\n",
        "\n",
        "parent=[i for i in range(G+1)]\n",
        "\n",
        "\n",
        "glist=[]\n",
        "for _ in range(P):\n",
        "  g=int(input())\n",
        "  glist.append(g)\n",
        "\n",
        "count=0\n",
        "stop=False\n",
        "result=0\n",
        "\n",
        "for g in glist:\n",
        "  count=0\n",
        "  for i in range(g,0,-1):\n",
        "    if find_parent(parent,i)==i:\n",
        "      union_parent(parent,i,0)\n",
        "      break\n",
        "    else:\n",
        "      count+=1\n",
        "    if count==g:\n",
        "      print(\"운행중지\")\n",
        "      stop=True\n",
        "      break\n",
        "  if stop==True:\n",
        "    break\n",
        "  else:\n",
        "    result+=1\n",
        "print(result)\n",
        "\n",
        "#### 효율적인코드\n",
        "result=0\n",
        "for g in glist:\n",
        "  data=find_parent(parent,g)\n",
        "  if data==0:\n",
        "    break\n",
        "  union_parent(parent,data,data-1)\n",
        "  result+=1\n",
        "\n",
        "\n",
        "\n"
      ]
    },
    {
      "cell_type": "code",
      "source": [
        "for a in range(4,1,-1):\n",
        "  print(a)"
      ],
      "metadata": {
        "colab": {
          "base_uri": "https://localhost:8080/"
        },
        "id": "YWnsmWS1MKEb",
        "outputId": "d9ff0a3f-9bb0-45b0-db1b-f4e104e7aceb"
      },
      "execution_count": 6,
      "outputs": [
        {
          "output_type": "stream",
          "name": "stdout",
          "text": [
            "4\n",
            "3\n",
            "2\n"
          ]
        }
      ]
    },
    {
      "cell_type": "code",
      "source": [
        ""
      ],
      "metadata": {
        "id": "Gm_c_MmlZIiS"
      },
      "execution_count": null,
      "outputs": []
    }
  ]
}