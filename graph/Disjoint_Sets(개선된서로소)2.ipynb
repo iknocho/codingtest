{
  "nbformat": 4,
  "nbformat_minor": 0,
  "metadata": {
    "colab": {
      "name": "Disjoint_Sets(개선된서로소)2.ipynb",
      "provenance": [],
      "collapsed_sections": []
    },
    "kernelspec": {
      "name": "python3",
      "display_name": "Python 3"
    },
    "language_info": {
      "name": "python"
    }
  },
  "cells": [
    {
      "cell_type": "code",
      "execution_count": 13,
      "metadata": {
        "colab": {
          "base_uri": "https://localhost:8080/"
        },
        "id": "9iYte3BSFta5",
        "outputId": "0bc06410-012a-45da-f663-21de6be9f165"
      },
      "outputs": [
        {
          "output_type": "stream",
          "name": "stdout",
          "text": [
            "5 4\n",
            "0 1 0 1 1\n",
            "1 0 1 1 0\n",
            "0 1 0 0 0\n",
            "1 1 0 0 0\n",
            "1 0 0 0 0\n",
            "2 3 4 3\n",
            "[[0, 1, 0, 1, 1], [1, 0, 1, 1, 0], [0, 1, 0, 0, 0], [1, 1, 0, 0, 0], [1, 0, 0, 0, 0]]\n",
            "a: 1\n",
            "b: 2\n",
            "a: 1\n",
            "b: 4\n",
            "a: 1\n",
            "b: 5\n",
            "a: 1\n",
            "b: 1\n",
            "a: 1\n",
            "b: 3\n",
            "a: 1\n",
            "b: 1\n",
            "a: 1\n",
            "b: 1\n",
            "a: 1\n",
            "b: 1\n",
            "a: 1\n",
            "b: 1\n",
            "a: 1\n",
            "b: 1\n"
          ]
        }
      ],
      "source": [
        "n,M=map(int,input().split())\n",
        "\n",
        "graph=[]\n",
        "\n",
        "parent=[i for i in range(n+1)]\n",
        "\n",
        "\n",
        "for _ in range(n):\n",
        "  x=[]\n",
        "  x=list(map(int,input().split()))\n",
        "  graph.append(x)\n",
        "  \n",
        "\n",
        "plans=list(map(int,input().split()))\n",
        "\n",
        "def find_parent(parent,x):\n",
        "  if parent[x]!=x:\n",
        "    parent[x]=find_parent(parent,parent[x]) ####개선전 find_parent(parent,parent[x])\n",
        "  return parent[x] ### return x\n",
        "\n",
        "def union_parent(parent,a,b):\n",
        "  print('a:',find_parent(parent,a))\n",
        "  print('b:',find_parent(parent,b))\n",
        "  if find_parent(parent,a)<find_parent(parent,b):\n",
        "    parent[b]=a\n",
        "  else:\n",
        "    parent[a]=b\n",
        "\n",
        "print(graph)\n",
        "\n",
        "for x in range(n):\n",
        "  for y in range(n):\n",
        "    if graph[x][y]==1:\n",
        "      union_parent(parent,x+1,y+1)\n",
        "\n",
        "count=0\n",
        "\n",
        "for i in range(len(plans)-1):\n",
        "  if find_parent(parent,plans[i])!=find_parent(parent,plans[i+1]):\n",
        "    print(\"NO\")\n",
        "  else:\n",
        "    count+=1\n",
        "    if count==len(plans):\n",
        "      print(\"YES\")\n"
      ]
    },
    {
      "cell_type": "code",
      "source": [
        "for i in range(len(plans)-1):\n",
        "  if find_parent(parent,plans[i])!=find_parent(parent,plans[i+1]):\n",
        "    print(\"YES\")\n",
        "  else:\n",
        "    count+=1\n",
        "    if count==len(plans):\n",
        "      print(\"NO\")\n"
      ],
      "metadata": {
        "colab": {
          "base_uri": "https://localhost:8080/"
        },
        "id": "5B45yhuab7v-",
        "outputId": "f8cd5881-e80b-4ca7-e058-c544c971887f"
      },
      "execution_count": 14,
      "outputs": [
        {
          "output_type": "stream",
          "name": "stdout",
          "text": [
            "NO\n"
          ]
        }
      ]
    },
    {
      "cell_type": "code",
      "source": [
        ""
      ],
      "metadata": {
        "id": "1-HQXPgJiC-0"
      },
      "execution_count": null,
      "outputs": []
    }
  ]
}