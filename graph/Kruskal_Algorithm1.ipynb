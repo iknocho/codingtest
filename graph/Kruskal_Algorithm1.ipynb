{
  "nbformat": 4,
  "nbformat_minor": 0,
  "metadata": {
    "colab": {
      "name": "Kruskal_Algorithm1.ipynb",
      "provenance": [],
      "collapsed_sections": []
    },
    "kernelspec": {
      "name": "python3",
      "display_name": "Python 3"
    },
    "language_info": {
      "name": "python"
    }
  },
  "cells": [
    {
      "cell_type": "code",
      "execution_count": 4,
      "metadata": {
        "colab": {
          "base_uri": "https://localhost:8080/"
        },
        "id": "mGkxV83klxnx",
        "outputId": "2c1bf81c-199b-4601-aa6d-65f8932449d6"
      },
      "outputs": [
        {
          "output_type": "stream",
          "name": "stdout",
          "text": [
            "7 12\n",
            "1 2 3\n",
            "1 3 2\n",
            "3 2 1\n",
            "2 5 2\n",
            "3 4 4\n",
            "7 3 6\n",
            "5 1 5\n",
            "1 6 2\n",
            "6 4 1\n",
            "6 5 3\n",
            "4 5 3\n",
            "6 7 4\n",
            "[3, 2, 1]\n",
            "1\n",
            "[6, 4, 1]\n",
            "2\n",
            "[1, 3, 2]\n",
            "4\n",
            "[2, 5, 2]\n",
            "6\n",
            "[1, 6, 2]\n",
            "8\n"
          ]
        }
      ],
      "source": [
        "n,m=map(int,input().split())\n",
        "\n",
        "parent=[0]*(n+1)\n",
        "\n",
        "for i in range(1,n+1):\n",
        "  parent[i]=i\n",
        "\n",
        "def find_parent(parent,x):\n",
        "  if parent[x]!=x:\n",
        "    parent[x]=find_parent(parent,parent[x])\n",
        "  return parent[x]\n",
        "\n",
        "def union_parent(parent,a,b):\n",
        "  a=find_parent(parent,a)\n",
        "  b=find_parent(parent,b)\n",
        "  if a<b:\n",
        "    parent[b]=a\n",
        "  else:\n",
        "    parent[a]=b\n",
        "\n",
        "mlist=[]\n",
        "\n",
        "for _ in range(m):\n",
        "  a,b,c = map(int,input().split())\n",
        "  mlist.append([a,b,c])\n",
        "\n",
        "mlist.sort(key=lambda x:x[2])\n",
        "\n",
        "count=0\n",
        "result=0\n",
        "\n",
        "for edge in mlist:\n",
        "  if find_parent(parent,edge[0]) !=find_parent(parent,edge[1]):\n",
        "    union_parent(parent,edge[0],edge[1])\n",
        "    count+=1\n",
        "    result+=edge[2]\n",
        "    print(edge)\n",
        "    print(result)\n",
        "    if count==n-2:\n",
        "      break\n",
        "  else:\n",
        "    continue\n",
        "\n",
        "\n",
        "\n",
        "\n",
        "\n"
      ]
    },
    {
      "cell_type": "code",
      "source": [
        "21k=[1,4,5,7,2]\n",
        "sorted(k)\n",
        "k"
      ],
      "metadata": {
        "colab": {
          "base_uri": "https://localhost:8080/"
        },
        "id": "SdWJIjobHT1a",
        "outputId": "25022258-f2e5-4a53-a6a8-b28a673f45ac"
      },
      "execution_count": 2,
      "outputs": [
        {
          "output_type": "execute_result",
          "data": {
            "text/plain": [
              "[1, 4, 5, 7, 2]"
            ]
          },
          "metadata": {},
          "execution_count": 2
        }
      ]
    },
    {
      "cell_type": "code",
      "source": [
        ""
      ],
      "metadata": {
        "id": "n_SoxnKWHZX9"
      },
      "execution_count": null,
      "outputs": []
    }
  ]
}