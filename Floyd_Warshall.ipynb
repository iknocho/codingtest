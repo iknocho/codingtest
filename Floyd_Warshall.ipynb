{
  "nbformat": 4,
  "nbformat_minor": 0,
  "metadata": {
    "colab": {
      "name": "Floyd-Warshall.ipynb",
      "provenance": [],
      "collapsed_sections": []
    },
    "kernelspec": {
      "name": "python3",
      "display_name": "Python 3"
    },
    "language_info": {
      "name": "python"
    }
  },
  "cells": [
    {
      "cell_type": "code",
      "execution_count": null,
      "metadata": {
        "id": "pJqkdaevJTiS"
      },
      "outputs": [],
      "source": [
        "INF=int(1e9)\n",
        "\n",
        "n=int(input())\n",
        "m=int(input())\n",
        "\n",
        "graph=[[INF]*(n+1) for _ in range(n+1)]\n",
        "\n",
        "for a in range(1,n+1):\n",
        "  for b in range(1,n+1):\n",
        "    if a==b:\n",
        "      graph[a][b]=0\n",
        "\n",
        "for _ in range(m):\n",
        "  a,b,c=map(int,input().split())\n",
        "  graph[a][b]=c\n",
        "\n",
        "for k in range(1,n+1):\n",
        "  for a in range(1,n+1):\n",
        "    for b in range(1,n+1):\n",
        "      graph[a][b]=min(graph[a][b]=graph[a][k]+graph[k][b])\n",
        "\n",
        "for a in range(1,n+1):\n",
        "  for b in rnage(1,n+1):\n",
        "    if graph[a][b]==INF:\n",
        "      print(\"INFINITY\",end=\" \")\n",
        "    else:\n",
        "      print(graph[a][b],end=\" \")"
      ]
    }
  ]
}