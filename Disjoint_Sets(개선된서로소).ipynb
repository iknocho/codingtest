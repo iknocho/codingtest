{
  "nbformat": 4,
  "nbformat_minor": 0,
  "metadata": {
    "colab": {
      "name": "Disjoint_Sets(개선된서로소).ipynb",
      "provenance": [],
      "collapsed_sections": []
    },
    "kernelspec": {
      "name": "python3",
      "display_name": "Python 3"
    },
    "language_info": {
      "name": "python"
    }
  },
  "cells": [
    {
      "cell_type": "code",
      "execution_count": 2,
      "metadata": {
        "colab": {
          "base_uri": "https://localhost:8080/"
        },
        "id": "yprYR45qWoYH",
        "outputId": "b30509e3-4384-4c35-ad7a-67a546b446c0"
      },
      "outputs": [
        {
          "output_type": "stream",
          "name": "stdout",
          "text": [
            "6 4\n",
            "1 4\n",
            "2 3\n",
            "2 4\n",
            "5 6\n",
            "각 원소가 속한집합:111155\n",
            "부모테이블: 111155"
          ]
        }
      ],
      "source": [
        "def find_parent(parent,x):\n",
        "  if parent[x]!=x:\n",
        "    parent[x]=find_parent(parent,parent[x]) ####개선전 find_parent(parent,parent[x])\n",
        "  return parent[x] ### return x\n",
        "\n",
        "def union_parent(parent,a,b):\n",
        "  a=find_parent(parent,a)\n",
        "  b=find_parent(parent,b)\n",
        "  if a<b:\n",
        "    parent[b]=a\n",
        "  else:\n",
        "    parent[a]=b\n",
        "\n",
        "v,e=map(int,input().split())\n",
        "parent=[0]*(v+1)\n",
        "\n",
        "for i in range(1,v+1):\n",
        "  parent[i]=i\n",
        "\n",
        "for i in range(e):\n",
        "  a,b=map(int,input().split())\n",
        "  union_parent(parent,a,b)\n",
        "\n",
        "print('각 원소가 속한집합:',end='')\n",
        "for i in range(1,v+1):\n",
        "  print(find_parent(parent,i),end='')\n",
        "\n",
        "print()\n",
        "\n",
        "print('부모테이블: ',end='')\n",
        "for i in range(1,v+1):\n",
        "  print(parent[i],end='')"
      ]
    },
    {
      "cell_type": "code",
      "source": [
        "1"
      ],
      "metadata": {
        "id": "wHZ-NEPaoWNs"
      },
      "execution_count": null,
      "outputs": []
    }
  ]
}