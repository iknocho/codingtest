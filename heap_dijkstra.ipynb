{
  "nbformat": 4,
  "nbformat_minor": 0,
  "metadata": {
    "colab": {
      "name": "heap_dijkstra.ipynb",
      "provenance": [],
      "collapsed_sections": []
    },
    "kernelspec": {
      "name": "python3",
      "display_name": "Python 3"
    },
    "language_info": {
      "name": "python"
    }
  },
  "cells": [
    {
      "cell_type": "code",
      "execution_count": null,
      "metadata": {
        "id": "Nxscm6pcKsfL"
      },
      "outputs": [],
      "source": [
        "import heapq\n",
        "import sys\n",
        "\n",
        "input=sys.stdin.readline\n",
        "INF=int(1e9)\n",
        "\n",
        "n,m=map(int,input().split())\n",
        "\n",
        "start=int(input())\n",
        "\n",
        "graph=[[] for i imn range(n+1)]\n",
        "\n",
        "distance=[INF] * (n+1)\n",
        "\n",
        "for _ in range(m):\n",
        "  a,b,c=map(int, input().split())\n",
        "  graph[a].append((b,c))\n",
        "\n",
        "def dijkstra(start):\n",
        "  q=[]\n",
        "  heapq.heappush(q,(0,start))\n",
        "  distance[start]=0\n",
        "  while q:\n",
        "    dist,now=heapq.heappop(q)\n",
        "    if distance[now]<dist:\n",
        "      continue\n",
        "    \n",
        "    for i in graph[now]:\n",
        "      cost=dist+i[1]\n",
        "      if cost< distance[i[0]]:\n",
        "        distance[i[0]] = cost\n",
        "        heapq.heappush(q,(cost,i[0]))\n",
        "\n",
        "dijkstra(start)\n",
        "\n",
        "for i in range(1,n+1):\n",
        "  if distance==INF:\n",
        "    print(\"INFINITY\")\n",
        "  else:\n",
        "    print(distance[i])"
      ]
    }
  ]
}