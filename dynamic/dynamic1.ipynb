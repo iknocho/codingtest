{
  "nbformat": 4,
  "nbformat_minor": 0,
  "metadata": {
    "colab": {
      "name": "dynamic1.ipynb",
      "provenance": [],
      "collapsed_sections": []
    },
    "kernelspec": {
      "name": "python3",
      "display_name": "Python 3"
    },
    "language_info": {
      "name": "python"
    }
  },
  "cells": [
    {
      "cell_type": "code",
      "execution_count": 15,
      "metadata": {
        "colab": {
          "base_uri": "https://localhost:8080/"
        },
        "id": "dHj3germnpVq",
        "outputId": "e9a212e9-f30e-4a82-a74d-a5598225f312"
      },
      "outputs": [
        {
          "name": "stdout",
          "output_type": "stream",
          "text": [
            "5\n",
            "7\n",
            "3 8\n",
            "8 1 0\n",
            "2 7 4 4\n",
            "4 5 2 6 5\n"
          ]
        }
      ],
      "source": [
        "n=int(input())\n",
        "data=[]\n",
        "\n",
        "for i in range(n):\n",
        "  a=list(map(int,input().split())) \n",
        "  data.append(a)\n",
        "for i in range(1,n):\n",
        "  for j in range(0,i+1):\n",
        "    if j==0:\n",
        "      data[i][j]=data[i-1][j]+data[i][j]\n",
        "    elif j==i:\n",
        "      data[i][j]=data[i-1][j-1]+data[i][j]\n",
        "    else:\n",
        "      data[i][j]=max(data[i][j]+data[i-1][j-1],data[i][j]+data[i-1][j])\n",
        "print(max(data[n-1]))"
      ]
    },
    {
      "cell_type": "code",
      "source": [
        "maxnum"
      ],
      "metadata": {
        "colab": {
          "base_uri": "https://localhost:8080/"
        },
        "id": "lxawXgYHVtUE",
        "outputId": "55ac3fcf-e53b-4e8c-a5ed-e65fec761b55"
      },
      "execution_count": 16,
      "outputs": [
        {
          "output_type": "execute_result",
          "data": {
            "text/plain": [
              "30"
            ]
          },
          "metadata": {},
          "execution_count": 16
        }
      ]
    },
    {
      "cell_type": "code",
      "source": [
        "data"
      ],
      "metadata": {
        "colab": {
          "base_uri": "https://localhost:8080/"
        },
        "id": "jdr95LWVXZsE",
        "outputId": "c0c8f5e4-a2db-4c5c-a4e3-d6d65ce402d4"
      },
      "execution_count": 14,
      "outputs": [
        {
          "output_type": "execute_result",
          "data": {
            "text/plain": [
              "[[11], [14, 19], [22, 20, 19], [24, 29, 24, 23], [28, 34, 31, 30, 28]]"
            ]
          },
          "metadata": {},
          "execution_count": 14
        }
      ]
    },
    {
      "cell_type": "code",
      "source": [
        ""
      ],
      "metadata": {
        "id": "JkNSSOKaiTjD"
      },
      "execution_count": null,
      "outputs": []
    }
  ]
}