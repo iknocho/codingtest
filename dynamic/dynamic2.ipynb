{
  "nbformat": 4,
  "nbformat_minor": 0,
  "metadata": {
    "colab": {
      "name": "dynamic2.ipynb",
      "provenance": [],
      "collapsed_sections": []
    },
    "kernelspec": {
      "name": "python3",
      "display_name": "Python 3"
    },
    "language_info": {
      "name": "python"
    }
  },
  "cells": [
    {
      "cell_type": "code",
      "execution_count": 17,
      "metadata": {
        "colab": {
          "base_uri": "https://localhost:8080/"
        },
        "id": "9LiASnGeqdca",
        "outputId": "cec661ef-0a57-41ce-b4f0-634e7d7f3d96"
      },
      "outputs": [
        {
          "output_type": "stream",
          "name": "stdout",
          "text": [
            "7\n",
            "3 10\n",
            "5 20\n",
            "1 10\n",
            "1 20\n",
            "2 15\n",
            "4 40\n",
            "2 200\n",
            "0\n"
          ]
        }
      ],
      "source": [
        "import sys\n",
        "#sys.stdin.readline().rstrip().split()\n",
        "N=int(input())\n",
        "dp=[0]*(N+6)\n",
        "T=[]\n",
        "P=[]\n",
        "for _ in range(N):\n",
        "  t,p=map(int,input().split())\n",
        "  T.append(t)\n",
        "  P.append(p)\n",
        "for i in range(N):\n",
        "  if i!=0:\n",
        "    dp[i]=max(dp[i-1],dp[i])\n",
        "  if i+T[i]<N+1:\n",
        "    dp[i+T[i]]=max(P[i]+dp[i],dp[i+T[i]])\n",
        "print(max(dp[0:N+1])) "
      ]
    },
    {
      "cell_type": "code",
      "source": [
        "dp"
      ],
      "metadata": {
        "colab": {
          "base_uri": "https://localhost:8080/"
        },
        "id": "HeDC-aXXr05J",
        "outputId": "bb5983de-6541-4028-968d-859b439b20fe"
      },
      "execution_count": 18,
      "outputs": [
        {
          "output_type": "execute_result",
          "data": {
            "text/plain": [
              "[0, 0, 0, 0, 0, 0, 0, 0, 200, 40, 0, 0, 0]"
            ]
          },
          "metadata": {},
          "execution_count": 18
        }
      ]
    },
    {
      "cell_type": "code",
      "source": [
        ""
      ],
      "metadata": {
        "id": "GmyhZAcnsZ9v"
      },
      "execution_count": null,
      "outputs": []
    }
  ]
}