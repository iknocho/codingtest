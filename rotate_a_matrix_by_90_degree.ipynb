{
  "nbformat": 4,
  "nbformat_minor": 0,
  "metadata": {
    "colab": {
      "name": "rotate_a_matrix_by_90_degree",
      "provenance": [],
      "collapsed_sections": []
    },
    "kernelspec": {
      "name": "python3",
      "display_name": "Python 3"
    },
    "language_info": {
      "name": "python"
    }
  },
  "cells": [
    {
      "cell_type": "code",
      "source": [
        "def rotate_a_matrix_by_90_degree(a):\n",
        "  n=len(a)#행 길이 계산\n",
        "  m=len(a[0])#열 길이 계산\n",
        "  result=[[0]*n for _ in range(m)]\n",
        "  for i in range(n):\n",
        "    for j in range(m):\n",
        "      result[j][n-i-1]=a[i][j]\n",
        "  return result"
      ],
      "metadata": {
        "id": "OUdkGNdgFsIo"
      },
      "execution_count": 1,
      "outputs": []
    },
    {
      "cell_type": "code",
      "source": [
        ""
      ],
      "metadata": {
        "id": "I2KgWPPvtlJ1"
      },
      "execution_count": null,
      "outputs": []
    }
  ]
}