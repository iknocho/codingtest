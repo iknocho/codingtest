{
  "nbformat": 4,
  "nbformat_minor": 0,
  "metadata": {
    "colab": {
      "name": "Exhaustive Search and Simulation.ipynb",
      "provenance": [],
      "collapsed_sections": []
    },
    "kernelspec": {
      "name": "python3",
      "display_name": "Python 3"
    },
    "language_info": {
      "name": "python"
    }
  },
  "cells": [
    {
      "cell_type": "code",
      "source": [
        "score=input()\n",
        "length=len(score)\n",
        "first=[]\n",
        "second=[]\n",
        "for i in range(length):\n",
        "    if i<length/2:\n",
        "        first.append(int(score[i]))\n",
        "    else:\n",
        "        second.append(int(score[i]))\n",
        "if sum(first)==sum(second):\n",
        "    print(\"LUCKY\")\n",
        "else:\n",
        "    print(\"READY\")"
      ],
      "metadata": {
        "colab": {
          "base_uri": "https://localhost:8080/"
        },
        "id": "lI_pjHSMtwl5",
        "outputId": "a25622ec-cfd2-48b0-d6f5-9bf312b0b31a"
      },
      "execution_count": 3,
      "outputs": [
        {
          "output_type": "stream",
          "name": "stdout",
          "text": [
            "123402\n",
            "LUCKY\n"
          ]
        }
      ]
    },
    {
      "cell_type": "code",
      "source": [
        "##########수정\n",
        "score=input()\n",
        "length=len(score)\n",
        "sum=0\n",
        "second=[]\n",
        "for i in range(int(length/2)):\n",
        "    sum+=int(score[i])\n",
        "for i in range(int(length/2),int(length)):\n",
        "    sum-=int(score[i])\n",
        "if sum==0:\n",
        "    print(\"LUCKY\")\n",
        "else:\n",
        "    print(\"READY\")"
      ],
      "metadata": {
        "colab": {
          "base_uri": "https://localhost:8080/"
        },
        "id": "vaCqyxMYgdsF",
        "outputId": "6f0b8224-6155-4de6-d06c-3badb0e0b818"
      },
      "execution_count": 8,
      "outputs": [
        {
          "output_type": "stream",
          "name": "stdout",
          "text": [
            "123402\n",
            "LUCKY\n"
          ]
        }
      ]
    },
    {
      "cell_type": "code",
      "source": [
        "\n"
      ],
      "metadata": {
        "colab": {
          "base_uri": "https://localhost:8080/"
        },
        "id": "HVYWY1R-iTYm",
        "outputId": "0de17020-d03a-4404-81e4-7c3dd095e59f"
      },
      "execution_count": 11,
      "outputs": [
        {
          "output_type": "execute_result",
          "data": {
            "text/plain": [
              "1.0"
            ]
          },
          "metadata": {},
          "execution_count": 11
        }
      ]
    },
    {
      "cell_type": "markdown",
      "source": [
        ""
      ],
      "metadata": {
        "id": "65qjoyTVhUzZ"
      }
    }
  ]
}