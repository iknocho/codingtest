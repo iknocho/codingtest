{
  "nbformat": 4,
  "nbformat_minor": 0,
  "metadata": {
    "colab": {
      "name": "Exhaustive_Search_and_Simulation5.ipynb",
      "provenance": [],
      "collapsed_sections": []
    },
    "kernelspec": {
      "name": "python3",
      "display_name": "Python 3"
    },
    "language_info": {
      "name": "python"
    }
  },
  "cells": [
    {
      "cell_type": "code",
      "execution_count": 21,
      "metadata": {
        "colab": {
          "base_uri": "https://localhost:8080/"
        },
        "id": "8bVxURm_lYQa",
        "outputId": "6c257757-06a1-4da7-d4af-b25d3ddabf58"
      },
      "outputs": [
        {
          "output_type": "stream",
          "name": "stdout",
          "text": [
            "10\n",
            "5\n",
            "1 5\n",
            "1 3\n",
            "1 2\n",
            "1 6\n",
            "1 7\n",
            "4\n",
            "8 D\n",
            "10 D\n",
            "11 D\n",
            "13 L\n",
            "8\n",
            "10\n",
            "11\n",
            "13\n"
          ]
        }
      ],
      "source": [
        "from collections import deque\n",
        "n=int(input())\n",
        "dx=[0,1,0,-1]\n",
        "dy=[1,0,-1,0]\n",
        "q=deque()\n",
        "snake=deque()\n",
        "snake.append((0,0))\n",
        "direct=0\n",
        "data=[[0]*n for _ in range(n)]\n",
        "k=int(input())\n",
        "for _ in range(k):\n",
        "    x,y=map(int,input().split())\n",
        "    data[x-1][y-1]=2\n",
        "dirChange=int(input())\n",
        "x,y=0,0\n",
        "for _ in range(dirChange):\n",
        "    t,d=input().split()\n",
        "    q.append((int(t),d))\n",
        "for time in range(1,10001):\n",
        "    if x+dx[direct]<0 or x+dx[direct]>=n or y+dy[direct]<0 or y+dy[direct]>=n:\n",
        "        print(time)\n",
        "        break\n",
        "    elif data[x+dx[direct]][y+dy[direct]]==0:\n",
        "        data[x+dx[direct]][y+dy[direct]]=1\n",
        "        tx,ty=snake.popleft()\n",
        "        data[tx][ty]=0\n",
        "        x=x+dx[direct]\n",
        "        y=y+dy[direct]\n",
        "        snake.append((x,y))\n",
        "    elif data[x+dx[direct]][y+dy[direct]]==1:\n",
        "        print(time)\n",
        "        break\n",
        "    elif data[x+dx[direct]][y+dy[direct]]==2:\n",
        "        data[x+dx[direct]][y+dy[direct]]=1\n",
        "        x=x+dx[direct]\n",
        "        y=y+dy[direct]   \n",
        "        snake.append((x,y))\n",
        "    if q:   \n",
        "      if q[0][0]==time:\n",
        "          t,d=q.popleft()\n",
        "          if d=='D':\n",
        "              direct+=1\n",
        "              if direct>=4:\n",
        "                  direct=0\n",
        "          elif d=='L':\n",
        "              direct-=1\n",
        "              if direct<0:\n",
        "                  direct=3"
      ]
    },
    {
      "cell_type": "code",
      "source": [
        "data"
      ],
      "metadata": {
        "colab": {
          "base_uri": "https://localhost:8080/"
        },
        "id": "DtQdxa5JlYz-",
        "outputId": "c226fee1-133b-4464-a3dd-5cac301c057f"
      },
      "execution_count": 18,
      "outputs": [
        {
          "output_type": "execute_result",
          "data": {
            "text/plain": [
              "[[0, 0, 0, 0, 0, 0],\n",
              " [0, 0, 0, 0, 2, 0],\n",
              " [0, 0, 0, 2, 0, 0],\n",
              " [0, 0, 0, 0, 0, 0],\n",
              " [0, 0, 1, 0, 0, 0],\n",
              " [0, 0, 1, 0, 0, 0]]"
            ]
          },
          "metadata": {},
          "execution_count": 18
        }
      ]
    },
    {
      "cell_type": "code",
      "source": [
        ""
      ],
      "metadata": {
        "id": "FdU6hZpnBVIg"
      },
      "execution_count": null,
      "outputs": []
    }
  ]
}