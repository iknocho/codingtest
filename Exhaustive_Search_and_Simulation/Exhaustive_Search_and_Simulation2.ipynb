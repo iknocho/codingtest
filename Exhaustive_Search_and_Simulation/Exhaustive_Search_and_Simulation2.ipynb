{
  "nbformat": 4,
  "nbformat_minor": 0,
  "metadata": {
    "colab": {
      "name": "Exhaustive_Search_and_Simulation2.ipynb",
      "provenance": [],
      "collapsed_sections": []
    },
    "kernelspec": {
      "name": "python3",
      "display_name": "Python 3"
    },
    "language_info": {
      "name": "python"
    }
  },
  "cells": [
    {
      "cell_type": "code",
      "execution_count": 4,
      "metadata": {
        "colab": {
          "base_uri": "https://localhost:8080/"
        },
        "id": "bQLqTOryjDXe",
        "outputId": "e3cafbd7-14f7-4bc3-a2f1-39ec3a47ec68"
      },
      "outputs": [
        {
          "output_type": "stream",
          "name": "stdout",
          "text": [
            "K1KA5CB7\n",
            "ABCKK13\n"
          ]
        }
      ],
      "source": [
        "sumStr=input()\n",
        "alpha=\"\"\n",
        "sum=0\n",
        "for i in sumStr:\n",
        "  if i.isalpha():\n",
        "    alpha+=i\n",
        "  else:\n",
        "    sum+=int(i)\n",
        "alpha=sorted(alpha)\n",
        "alpha=\"\".join(alpha)\n",
        "if sum!=0:\n",
        "  result=alpha+str(sum)\n",
        "else:\n",
        "  result=alpha\n",
        "print(result)"
      ]
    },
    {
      "cell_type": "code",
      "source": [
        ""
      ],
      "metadata": {
        "colab": {
          "base_uri": "https://localhost:8080/"
        },
        "id": "e3ITq4F0mhfF",
        "outputId": "aca20624-efd4-4323-f820-42351b334507"
      },
      "execution_count": 2,
      "outputs": [
        {
          "output_type": "stream",
          "name": "stdout",
          "text": [
            "KKACB13\n"
          ]
        }
      ]
    },
    {
      "cell_type": "code",
      "source": [
        ""
      ],
      "metadata": {
        "id": "ZEsj1QWsmrjR"
      },
      "execution_count": null,
      "outputs": []
    }
  ]
}