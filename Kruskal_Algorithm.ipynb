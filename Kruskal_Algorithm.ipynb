{
  "nbformat": 4,
  "nbformat_minor": 0,
  "metadata": {
    "colab": {
      "name": "Kruskal_Algorithm.ipynb",
      "provenance": []
    },
    "kernelspec": {
      "name": "python3",
      "display_name": "Python 3"
    },
    "language_info": {
      "name": "python"
    }
  },
  "cells": [
    {
      "cell_type": "code",
      "execution_count": 3,
      "metadata": {
        "colab": {
          "base_uri": "https://localhost:8080/"
        },
        "id": "yAOW_fhSUJQ4",
        "outputId": "47d98444-4604-4a4c-db09-56cc78f35a43"
      },
      "outputs": [
        {
          "output_type": "stream",
          "name": "stdout",
          "text": [
            "7 9\n",
            "1 2 29\n",
            "1 5 75\n",
            "2 3 35\n",
            "2 6 34\n",
            "3 4 7\n",
            "4 6 23\n",
            "4 7 13\n",
            "5 6 53\n",
            "6 7 25\n",
            "159\n"
          ]
        }
      ],
      "source": [
        "#최소신장트리 찾기 (모든 노드 연결,사이클x)\n",
        "\n",
        "def find_parent(parent,x):\n",
        "  if parent[x]!=x:\n",
        "    parent[x]=find_parent(parent,parent[x]) ####개선전 find_parent(parent,parent[x])\n",
        "  return parent[x] ### return x\n",
        "\n",
        "def union_parent(parent,a,b):\n",
        "  a=find_parent(parent,a)\n",
        "  b=find_parent(parent,b)\n",
        "  if a<b:\n",
        "    parent[b]=a\n",
        "  else:\n",
        "    parent[a]=b\n",
        "\n",
        "v,e=map(int,input().split())\n",
        "parent=[0]*(v+1)\n",
        "\n",
        "for i in range(1,v+1):\n",
        "  parent[i]=i\n",
        "\n",
        "edges=[]\n",
        "\n",
        "for _ in range(e):\n",
        "  a,b,cost=map(int,input().split())\n",
        "  edges.append((cost,a,b))\n",
        "\n",
        "edges.sort()#비용순으로 정렬\n",
        "result=0\n",
        "\n",
        "for edge in edges:\n",
        "  cost,a,b=edge\n",
        "  if find_parent(parent,a)!=find_parent(parent,b):\n",
        "    union_parent(parent,a,b)\n",
        "    result+=cost\n",
        "\n",
        "print(result)"
      ]
    },
    {
      "cell_type": "code",
      "source": [
        ""
      ],
      "metadata": {
        "id": "BCmzDw6damAp"
      },
      "execution_count": null,
      "outputs": []
    }
  ]
}