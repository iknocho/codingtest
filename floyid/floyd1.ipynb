{
  "nbformat": 4,
  "nbformat_minor": 0,
  "metadata": {
    "colab": {
      "name": "floyd1.ipynb",
      "provenance": [],
      "collapsed_sections": []
    },
    "kernelspec": {
      "name": "python3",
      "display_name": "Python 3"
    },
    "language_info": {
      "name": "python"
    }
  },
  "cells": [
    {
      "cell_type": "code",
      "execution_count": 11,
      "metadata": {
        "colab": {
          "base_uri": "https://localhost:8080/"
        },
        "id": "pH2_MfoZYopb",
        "outputId": "d7f6e21a-5783-4fcf-944c-b375991c9d4b"
      },
      "outputs": [
        {
          "output_type": "stream",
          "name": "stdout",
          "text": [
            "5\n",
            "14\n",
            "1 2 2\n",
            "1 3 3\n",
            "1 4 1\n",
            "1 5 10\n",
            "2 4 2\n",
            "3 4 1\n",
            "3 5 1\n",
            "4 5 3\n",
            "3 5 10\n",
            "3 1 8\n",
            "1 4 2\n",
            "5 1 7\n",
            "3 4 2\n",
            "5 2 4\n",
            "0 2 3 1 10 \n",
            "1000000000 0 1000000000 2 1000000000 \n",
            "8 1000000000 0 1 1 \n",
            "1000000000 1000000000 1000000000 0 3 \n",
            "7 4 1000000000 1000000000 0 \n"
          ]
        }
      ],
      "source": [
        "#input=sys.stdin.readline\n",
        "n=int(input())\n",
        "m=int(input())\n",
        "\n",
        "INF=int(1e9)\n",
        "\n",
        "distance=[[INF]*(n+1) for _ in range(n+1)]\n",
        "\n",
        "for x in range(1,n+1):\n",
        "  for y in range(1,n+1):\n",
        "    if x==y:\n",
        "      distance[x][y]=0\n",
        "\n",
        "for _ in range(m):\n",
        "  a,b,c=map(int,input().split())\n",
        "  distance[a][b]=min(distance[a][b],c)\n",
        "\n",
        "for k in range(1,n+1):\n",
        "  for x in range(1,n+1):\n",
        "    for y in range(1,n+1):\n",
        "      distance[x][y]=min(distance[x][y],distance[x][k]+distance[k][y])\n",
        "\n",
        "for x in range(1,n+1):\n",
        "  for y in range(1,n+1):\n",
        "    print(distance[x][y],end=' ')\n",
        "  print()"
      ]
    },
    {
      "cell_type": "code",
      "source": [
        ""
      ],
      "metadata": {
        "id": "v_4nr74RrtX8"
      },
      "execution_count": 11,
      "outputs": []
    },
    {
      "cell_type": "code",
      "source": [
        ""
      ],
      "metadata": {
        "id": "LNbQvybIsgOx"
      },
      "execution_count": 11,
      "outputs": []
    },
    {
      "cell_type": "code",
      "source": [
        ""
      ],
      "metadata": {
        "id": "pmmLHZnDsjpF"
      },
      "execution_count": null,
      "outputs": []
    }
  ]
}