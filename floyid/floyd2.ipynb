{
  "nbformat": 4,
  "nbformat_minor": 0,
  "metadata": {
    "colab": {
      "name": "floyd2.ipynb",
      "provenance": [],
      "collapsed_sections": []
    },
    "kernelspec": {
      "name": "python3",
      "display_name": "Python 3"
    },
    "language_info": {
      "name": "python"
    }
  },
  "cells": [
    {
      "cell_type": "code",
      "execution_count": 7,
      "metadata": {
        "colab": {
          "base_uri": "https://localhost:8080/"
        },
        "id": "dr-Hw04A5Ag7",
        "outputId": "adf81f9a-1d42-4eca-b229-3137a367e26d"
      },
      "outputs": [
        {
          "output_type": "stream",
          "name": "stdout",
          "text": [
            "6 5\n",
            "1 4\n",
            "2 4\n",
            "3 4\n",
            "5 4\n",
            "4 6\n",
            "2\n"
          ]
        }
      ],
      "source": [
        "INF=int(1e9)\n",
        "\n",
        "n,m=map(int,input().split())\n",
        "\n",
        "graph=[[INF]*(n+1) for _ in range(n+1)]\n",
        "\n",
        "for i in range(1,n+1):\n",
        "  graph[i][i]=0\n",
        "\n",
        "for _ in range(m):\n",
        "  a,b=map(int,input().split())\n",
        "  graph[a][b]=1\n",
        "\n",
        "for k in range(1,n+1):\n",
        "  for a in range(1,n+1):\n",
        "    for b in range(1,n+1):\n",
        "      graph[a][b]=min(graph[a][b],graph[a][k]+graph[k][b])\n",
        "\n",
        "result = 0\n",
        "# 각 학생을 번호에 따라 한 명씩 확인하며 도달 가능한지 체크\n",
        "for i in range(1, n + 1):\n",
        "    count = 0\n",
        "    for j in range(1, n + 1):\n",
        "        if graph[i][j] != INF or graph[j][i] != INF:\n",
        "            count += 1\n",
        "    if count == n:\n",
        "        result += 1\n",
        "print(result)"
      ]
    },
    {
      "cell_type": "code",
      "source": [
        "del graph[0]\n",
        "\n",
        "for i in range(0,n):\n",
        "  del graph[i][0]\n",
        "\n",
        "graph"
      ],
      "metadata": {
        "colab": {
          "base_uri": "https://localhost:8080/"
        },
        "id": "vhvTQerh592i",
        "outputId": "ddc00118-7318-4e28-f755-2ebbb0b75058"
      },
      "execution_count": 8,
      "outputs": [
        {
          "output_type": "execute_result",
          "data": {
            "text/plain": [
              "[[0, 1000000000, 1000000000, 1, 1000000000, 2],\n",
              " [1000000000, 0, 1000000000, 1, 1000000000, 2],\n",
              " [1000000000, 1000000000, 0, 1, 1000000000, 2],\n",
              " [1000000000, 1000000000, 1000000000, 0, 1000000000, 1],\n",
              " [1000000000, 1000000000, 1000000000, 1, 0, 2],\n",
              " [1000000000, 1000000000, 1000000000, 1000000000, 1000000000, 0]]"
            ]
          },
          "metadata": {},
          "execution_count": 8
        }
      ]
    },
    {
      "cell_type": "code",
      "source": [
        ""
      ],
      "metadata": {
        "id": "8Ese2iJf7eF0"
      },
      "execution_count": null,
      "outputs": []
    }
  ]
}